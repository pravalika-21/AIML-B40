{
  "nbformat": 4,
  "nbformat_minor": 0,
  "metadata": {
    "colab": {
      "provenance": []
    },
    "kernelspec": {
      "name": "python3",
      "display_name": "Python 3"
    },
    "language_info": {
      "name": "python"
    }
  },
  "cells": [
    {
      "cell_type": "code",
      "execution_count": 1,
      "metadata": {
        "id": "R6E1OnW4NbrE"
      },
      "outputs": [],
      "source": [
        "import pandas as pd\n",
        "import numpy as np\n",
        "import matplotlib.pyplot as plt\n",
        "import seaborn as sns\n",
        "from sklearn.model_selection import train_test_split\n",
        "from sklearn.ensemble import RandomForestClassifier\n",
        "from sklearn.metrics import confusion_matrix, classification_report\n",
        "from sklearn.preprocessing import LabelEncoder\n"
      ]
    },
    {
      "cell_type": "code",
      "source": [
        "data = pd.read_csv('loans_full_schema.csv')\n"
      ],
      "metadata": {
        "id": "6PoiUcf0N3mx"
      },
      "execution_count": 2,
      "outputs": []
    },
    {
      "cell_type": "code",
      "source": [
        "print(data.dtypes)\n"
      ],
      "metadata": {
        "colab": {
          "base_uri": "https://localhost:8080/"
        },
        "id": "DbYVT9-bOGSb",
        "outputId": "795198c5-319f-40af-e902-bbc7cf603cc8"
      },
      "execution_count": 3,
      "outputs": [
        {
          "output_type": "stream",
          "name": "stdout",
          "text": [
            "emp_title                            object\n",
            "emp_length                          float64\n",
            "state                                object\n",
            "homeownership                        object\n",
            "annual_income                       float64\n",
            "verified_income                      object\n",
            "debt_to_income                      float64\n",
            "annual_income_joint                 float64\n",
            "verification_income_joint            object\n",
            "debt_to_income_joint                float64\n",
            "delinq_2y                             int64\n",
            "months_since_last_delinq            float64\n",
            "earliest_credit_line                  int64\n",
            "inquiries_last_12m                    int64\n",
            "total_credit_lines                    int64\n",
            "open_credit_lines                     int64\n",
            "total_credit_limit                    int64\n",
            "total_credit_utilized                 int64\n",
            "num_collections_last_12m              int64\n",
            "num_historical_failed_to_pay          int64\n",
            "months_since_90d_late               float64\n",
            "current_accounts_delinq               int64\n",
            "total_collection_amount_ever          int64\n",
            "current_installment_accounts          int64\n",
            "accounts_opened_24m                   int64\n",
            "months_since_last_credit_inquiry    float64\n",
            "num_satisfactory_accounts             int64\n",
            "num_accounts_120d_past_due          float64\n",
            "num_accounts_30d_past_due             int64\n",
            "num_active_debit_accounts             int64\n",
            "total_debit_limit                     int64\n",
            "num_total_cc_accounts                 int64\n",
            "num_open_cc_accounts                  int64\n",
            "num_cc_carrying_balance               int64\n",
            "num_mort_accounts                     int64\n",
            "account_never_delinq_percent        float64\n",
            "tax_liens                             int64\n",
            "public_record_bankrupt                int64\n",
            "loan_purpose                         object\n",
            "application_type                     object\n",
            "loan_amount                           int64\n",
            "term                                  int64\n",
            "interest_rate                       float64\n",
            "installment                         float64\n",
            "grade                                object\n",
            "sub_grade                            object\n",
            "issue_month                          object\n",
            "loan_status                          object\n",
            "initial_listing_status               object\n",
            "disbursement_method                  object\n",
            "balance                             float64\n",
            "paid_total                          float64\n",
            "paid_principal                      float64\n",
            "paid_interest                       float64\n",
            "paid_late_fees                      float64\n",
            "dtype: object\n"
          ]
        }
      ]
    },
    {
      "cell_type": "code",
      "source": [
        "print(data.describe(percentiles=[.25, .5, .75, .9]))\n"
      ],
      "metadata": {
        "colab": {
          "base_uri": "https://localhost:8080/"
        },
        "id": "xNLbZxrzOLGC",
        "outputId": "f1cd62ee-8813-4744-c7ec-3bb1f83e8005"
      },
      "execution_count": 4,
      "outputs": [
        {
          "output_type": "stream",
          "name": "stdout",
          "text": [
            "        emp_length  annual_income  debt_to_income  annual_income_joint  \\\n",
            "count  9183.000000   1.000000e+04     9976.000000         1.495000e+03   \n",
            "mean      5.930306   7.922215e+04       19.308192         1.279146e+05   \n",
            "std       3.703734   6.473429e+04       15.004851         7.016838e+04   \n",
            "min       0.000000   0.000000e+00        0.000000         1.920000e+04   \n",
            "25%       2.000000   4.500000e+04       11.057500         8.683350e+04   \n",
            "50%       6.000000   6.500000e+04       17.570000         1.130000e+05   \n",
            "75%      10.000000   9.500000e+04       25.002500         1.515455e+05   \n",
            "90%      10.000000   1.350000e+05       32.375000         1.980000e+05   \n",
            "max      10.000000   2.300000e+06      469.090000         1.100000e+06   \n",
            "\n",
            "       debt_to_income_joint    delinq_2y  months_since_last_delinq  \\\n",
            "count           1495.000000  10000.00000               4342.000000   \n",
            "mean              19.979304      0.21600                 36.760709   \n",
            "std                8.054781      0.68366                 21.634939   \n",
            "min                0.320000      0.00000                  1.000000   \n",
            "25%               14.160000      0.00000                 19.000000   \n",
            "50%               19.720000      0.00000                 34.000000   \n",
            "75%               25.500000      0.00000                 53.000000   \n",
            "90%               30.698000      1.00000                 69.000000   \n",
            "max               39.980000     13.00000                118.000000   \n",
            "\n",
            "       earliest_credit_line  inquiries_last_12m  total_credit_lines  ...  \\\n",
            "count           10000.00000         10000.00000        10000.000000  ...   \n",
            "mean             2001.29000             1.95820           22.679600  ...   \n",
            "std                 7.79551             2.38013           11.885439  ...   \n",
            "min              1963.00000             0.00000            2.000000  ...   \n",
            "25%              1997.00000             0.00000           14.000000  ...   \n",
            "50%              2003.00000             1.00000           21.000000  ...   \n",
            "75%              2006.00000             3.00000           29.000000  ...   \n",
            "90%              2010.00000             5.00000           39.000000  ...   \n",
            "max              2015.00000            29.00000           87.000000  ...   \n",
            "\n",
            "       public_record_bankrupt   loan_amount          term  interest_rate  \\\n",
            "count            10000.000000  10000.000000  10000.000000   10000.000000   \n",
            "mean                 0.123800  16361.922500     43.272000      12.427524   \n",
            "std                  0.337172  10301.956759     11.029877       5.001105   \n",
            "min                  0.000000   1000.000000     36.000000       5.310000   \n",
            "25%                  0.000000   8000.000000     36.000000       9.430000   \n",
            "50%                  0.000000  14500.000000     36.000000      11.980000   \n",
            "75%                  0.000000  24000.000000     60.000000      15.050000   \n",
            "90%                  1.000000  32000.000000     60.000000      19.420000   \n",
            "max                  3.000000  40000.000000     60.000000      30.940000   \n",
            "\n",
            "        installment       balance    paid_total  paid_principal  \\\n",
            "count  10000.000000  10000.000000  10000.000000    10000.000000   \n",
            "mean     476.205323  14458.916610   2494.234773     1894.448466   \n",
            "std      294.851627   9964.561865   3958.230365     3884.407175   \n",
            "min       30.750000      0.000000      0.000000        0.000000   \n",
            "25%      256.040000   6679.065000    928.700000      587.100000   \n",
            "50%      398.420000  12379.495000   1563.300000      984.990000   \n",
            "75%      644.690000  20690.182500   2616.005000     1694.555000   \n",
            "90%      909.499000  29768.890000   4163.408054     3026.020000   \n",
            "max     1566.590000  40000.000000  41630.443684    40000.000000   \n",
            "\n",
            "       paid_interest  paid_late_fees  \n",
            "count   10000.000000    10000.000000  \n",
            "mean      599.666781        0.119516  \n",
            "std       517.328062        1.813468  \n",
            "min         0.000000        0.000000  \n",
            "25%       221.757500        0.000000  \n",
            "50%       446.140000        0.000000  \n",
            "75%       825.420000        0.000000  \n",
            "90%      1321.992000        0.000000  \n",
            "max      4216.440000       52.980000  \n",
            "\n",
            "[9 rows x 42 columns]\n"
          ]
        }
      ]
    },
    {
      "cell_type": "code",
      "source": [
        "print(data.describe(percentiles=[.25, .5, .75, .9]))\n"
      ],
      "metadata": {
        "colab": {
          "base_uri": "https://localhost:8080/"
        },
        "id": "mkkdqhnNOOLX",
        "outputId": "f2c67fb8-c94f-4280-c303-588ce9844432"
      },
      "execution_count": 5,
      "outputs": [
        {
          "output_type": "stream",
          "name": "stdout",
          "text": [
            "        emp_length  annual_income  debt_to_income  annual_income_joint  \\\n",
            "count  9183.000000   1.000000e+04     9976.000000         1.495000e+03   \n",
            "mean      5.930306   7.922215e+04       19.308192         1.279146e+05   \n",
            "std       3.703734   6.473429e+04       15.004851         7.016838e+04   \n",
            "min       0.000000   0.000000e+00        0.000000         1.920000e+04   \n",
            "25%       2.000000   4.500000e+04       11.057500         8.683350e+04   \n",
            "50%       6.000000   6.500000e+04       17.570000         1.130000e+05   \n",
            "75%      10.000000   9.500000e+04       25.002500         1.515455e+05   \n",
            "90%      10.000000   1.350000e+05       32.375000         1.980000e+05   \n",
            "max      10.000000   2.300000e+06      469.090000         1.100000e+06   \n",
            "\n",
            "       debt_to_income_joint    delinq_2y  months_since_last_delinq  \\\n",
            "count           1495.000000  10000.00000               4342.000000   \n",
            "mean              19.979304      0.21600                 36.760709   \n",
            "std                8.054781      0.68366                 21.634939   \n",
            "min                0.320000      0.00000                  1.000000   \n",
            "25%               14.160000      0.00000                 19.000000   \n",
            "50%               19.720000      0.00000                 34.000000   \n",
            "75%               25.500000      0.00000                 53.000000   \n",
            "90%               30.698000      1.00000                 69.000000   \n",
            "max               39.980000     13.00000                118.000000   \n",
            "\n",
            "       earliest_credit_line  inquiries_last_12m  total_credit_lines  ...  \\\n",
            "count           10000.00000         10000.00000        10000.000000  ...   \n",
            "mean             2001.29000             1.95820           22.679600  ...   \n",
            "std                 7.79551             2.38013           11.885439  ...   \n",
            "min              1963.00000             0.00000            2.000000  ...   \n",
            "25%              1997.00000             0.00000           14.000000  ...   \n",
            "50%              2003.00000             1.00000           21.000000  ...   \n",
            "75%              2006.00000             3.00000           29.000000  ...   \n",
            "90%              2010.00000             5.00000           39.000000  ...   \n",
            "max              2015.00000            29.00000           87.000000  ...   \n",
            "\n",
            "       public_record_bankrupt   loan_amount          term  interest_rate  \\\n",
            "count            10000.000000  10000.000000  10000.000000   10000.000000   \n",
            "mean                 0.123800  16361.922500     43.272000      12.427524   \n",
            "std                  0.337172  10301.956759     11.029877       5.001105   \n",
            "min                  0.000000   1000.000000     36.000000       5.310000   \n",
            "25%                  0.000000   8000.000000     36.000000       9.430000   \n",
            "50%                  0.000000  14500.000000     36.000000      11.980000   \n",
            "75%                  0.000000  24000.000000     60.000000      15.050000   \n",
            "90%                  1.000000  32000.000000     60.000000      19.420000   \n",
            "max                  3.000000  40000.000000     60.000000      30.940000   \n",
            "\n",
            "        installment       balance    paid_total  paid_principal  \\\n",
            "count  10000.000000  10000.000000  10000.000000    10000.000000   \n",
            "mean     476.205323  14458.916610   2494.234773     1894.448466   \n",
            "std      294.851627   9964.561865   3958.230365     3884.407175   \n",
            "min       30.750000      0.000000      0.000000        0.000000   \n",
            "25%      256.040000   6679.065000    928.700000      587.100000   \n",
            "50%      398.420000  12379.495000   1563.300000      984.990000   \n",
            "75%      644.690000  20690.182500   2616.005000     1694.555000   \n",
            "90%      909.499000  29768.890000   4163.408054     3026.020000   \n",
            "max     1566.590000  40000.000000  41630.443684    40000.000000   \n",
            "\n",
            "       paid_interest  paid_late_fees  \n",
            "count   10000.000000    10000.000000  \n",
            "mean      599.666781        0.119516  \n",
            "std       517.328062        1.813468  \n",
            "min         0.000000        0.000000  \n",
            "25%       221.757500        0.000000  \n",
            "50%       446.140000        0.000000  \n",
            "75%       825.420000        0.000000  \n",
            "90%      1321.992000        0.000000  \n",
            "max      4216.440000       52.980000  \n",
            "\n",
            "[9 rows x 42 columns]\n"
          ]
        }
      ]
    },
    {
      "cell_type": "code",
      "source": [
        "print(data.columns)\n"
      ],
      "metadata": {
        "colab": {
          "base_uri": "https://localhost:8080/"
        },
        "id": "c4C-l7apOak2",
        "outputId": "dbec0a43-935c-48a7-aecb-199b24732445"
      },
      "execution_count": 6,
      "outputs": [
        {
          "output_type": "stream",
          "name": "stdout",
          "text": [
            "Index(['emp_title', 'emp_length', 'state', 'homeownership', 'annual_income',\n",
            "       'verified_income', 'debt_to_income', 'annual_income_joint',\n",
            "       'verification_income_joint', 'debt_to_income_joint', 'delinq_2y',\n",
            "       'months_since_last_delinq', 'earliest_credit_line',\n",
            "       'inquiries_last_12m', 'total_credit_lines', 'open_credit_lines',\n",
            "       'total_credit_limit', 'total_credit_utilized',\n",
            "       'num_collections_last_12m', 'num_historical_failed_to_pay',\n",
            "       'months_since_90d_late', 'current_accounts_delinq',\n",
            "       'total_collection_amount_ever', 'current_installment_accounts',\n",
            "       'accounts_opened_24m', 'months_since_last_credit_inquiry',\n",
            "       'num_satisfactory_accounts', 'num_accounts_120d_past_due',\n",
            "       'num_accounts_30d_past_due', 'num_active_debit_accounts',\n",
            "       'total_debit_limit', 'num_total_cc_accounts', 'num_open_cc_accounts',\n",
            "       'num_cc_carrying_balance', 'num_mort_accounts',\n",
            "       'account_never_delinq_percent', 'tax_liens', 'public_record_bankrupt',\n",
            "       'loan_purpose', 'application_type', 'loan_amount', 'term',\n",
            "       'interest_rate', 'installment', 'grade', 'sub_grade', 'issue_month',\n",
            "       'loan_status', 'initial_listing_status', 'disbursement_method',\n",
            "       'balance', 'paid_total', 'paid_principal', 'paid_interest',\n",
            "       'paid_late_fees'],\n",
            "      dtype='object')\n"
          ]
        }
      ]
    }
  ]
}